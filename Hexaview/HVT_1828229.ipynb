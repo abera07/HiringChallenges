{
  "nbformat": 4,
  "nbformat_minor": 0,
  "metadata": {
    "colab": {
      "name": "HVT_1828229.ipynb",
      "provenance": []
    },
    "kernelspec": {
      "name": "python3",
      "display_name": "Python 3"
    },
    "language_info": {
      "name": "python"
    }
  },
  "cells": [
    {
      "cell_type": "code",
      "metadata": {
        "id": "hujSHbtkSPYm"
      },
      "source": [
        "#Program1\n",
        "def land():\n",
        "  LandPrice=[]\n",
        "  flag=True\n",
        "  print(\"Please enter the respective land prices:\")\n",
        "  while(flag==True):\n",
        "    x=int(input(\"Enter land price:\"))\n",
        "    LandPrice.append(x)\n",
        "    y=input(\"Continue inputting?Enter Y for yes, N for no.\")\n",
        "    if y==\"Y\":\n",
        "      flag=True\n",
        "    else:\n",
        "      flag=False\n",
        "\n",
        "    diff=[]\n",
        "  \n",
        "  for r in range(len(LandPrice)):\n",
        "    for c in range(r+1,len(LandPrice)):\n",
        "      diff.append(LandPrice[r]-LandPrice[c])\n",
        "  \n",
        "\n",
        "  comm=0.1*max(diff)\n",
        "\n",
        "  return comm\n"
      ],
      "execution_count": 29,
      "outputs": []
    },
    {
      "cell_type": "code",
      "metadata": {
        "colab": {
          "base_uri": "https://localhost:8080/"
        },
        "id": "aTaLQNjE0iqj",
        "outputId": "abefc8be-84bc-481c-a3eb-b2f3572e54e8"
      },
      "source": [
        "land()"
      ],
      "execution_count": 30,
      "outputs": [
        {
          "name": "stdout",
          "output_type": "stream",
          "text": [
            "Please enter the respective land prices:\n",
            "Enter land price:1000\n",
            "Continue inputting?Enter Y for yes, N for no.Y\n",
            "Enter land price:9000\n",
            "Continue inputting?Enter Y for yes, N for no.Y\n",
            "Enter land price:3000\n",
            "Continue inputting?Enter Y for yes, N for no.Y\n",
            "Enter land price:5000\n",
            "Continue inputting?Enter Y for yes, N for no.N\n"
          ]
        },
        {
          "output_type": "execute_result",
          "data": {
            "text/plain": [
              "600.0"
            ]
          },
          "metadata": {},
          "execution_count": 30
        }
      ]
    },
    {
      "cell_type": "code",
      "metadata": {
        "id": "PJefYkLUx2-6"
      },
      "source": [
        "#Program 2\n",
        "\n",
        "def middle(words):\n",
        "  wordlist=words.split()\n",
        "  n=len(wordlist)\n",
        "  mid=[]\n",
        "\n",
        "  if n%2==0:\n",
        "    mid.append(wordlist[n//2])\n",
        "    mid.append(wordlist[(n//2)+1])\n",
        "  \n",
        "  else:\n",
        "    mid.append(wordlist[n//2])\n",
        "\n",
        "  return mid"
      ],
      "execution_count": 23,
      "outputs": []
    },
    {
      "cell_type": "code",
      "metadata": {
        "colab": {
          "base_uri": "https://localhost:8080/"
        },
        "id": "FxL7D9_DzNAi",
        "outputId": "b040d233-6ce0-4266-fac8-f92ba834da2e"
      },
      "source": [
        "words=\"My name is Ankita Bera roll number 1828229\"\n",
        "mid=middle(words)\n",
        "for i in mid:\n",
        "  print(i)"
      ],
      "execution_count": 9,
      "outputs": [
        {
          "output_type": "stream",
          "name": "stdout",
          "text": [
            "Bera\n",
            "roll\n"
          ]
        }
      ]
    },
    {
      "cell_type": "code",
      "metadata": {
        "id": "1i_6_MYVzbc8"
      },
      "source": [
        ""
      ],
      "execution_count": null,
      "outputs": []
    }
  ]
}