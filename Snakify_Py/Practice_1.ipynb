{
  "nbformat": 4,
  "nbformat_minor": 0,
  "metadata": {
    "colab": {
      "name": "Practice-1.ipynb",
      "provenance": []
    },
    "kernelspec": {
      "name": "python3",
      "display_name": "Python 3"
    },
    "language_info": {
      "name": "python"
    }
  },
  "cells": [
    {
      "cell_type": "markdown",
      "metadata": {
        "id": "wb1NBqWESZC0"
      },
      "source": [
        "## Asked by Google:"
      ]
    },
    {
      "cell_type": "code",
      "metadata": {
        "id": "WrivKwjflYmH"
      },
      "source": [
        "\"\"\"Given an array a that contains only numbers in the range from 1 to a.length, \n",
        "find the first duplicate number for which the second occurrence has the minimal index. In other words, \n",
        "if there are more than 1 duplicated numbers, return the number for which the second occurrence has a \n",
        "smaller index than the second occurrence of the other number does. If there are no such elements, return -1.\"\"\"\n",
        "a = [2, 1, 3, 5, 3, 2]"
      ],
      "execution_count": null,
      "outputs": []
    },
    {
      "cell_type": "code",
      "metadata": {
        "id": "y5nghLHlwu31"
      },
      "source": [
        "def firstDuplicate(a):\n",
        "    dup={}\n",
        "    count={a[x]:0 for x in range(len(a))}\n",
        "    for i in range(len(a)):\n",
        "        for j in range(i+1,len(a)):\n",
        "            if a[i]==a[j]:\n",
        "                count[a[i]]+=1\n",
        "                if count[a[i]]<2:\n",
        "                    dup[a[i]]=j\n",
        "                \n",
        "    dup=dict(sorted(dup.items(), key=lambda x:x[1],reverse=False))\n",
        "    if len(dup)==0:\n",
        "        return -1\n",
        "    else:\n",
        "        return(list(dup.keys())[0])"
      ],
      "execution_count": null,
      "outputs": []
    },
    {
      "cell_type": "code",
      "metadata": {
        "colab": {
          "base_uri": "https://localhost:8080/"
        },
        "id": "PnSSh_cFyUi0",
        "outputId": "247150ab-c66c-4304-99b9-45e864587745"
      },
      "source": [
        "#Better approach\n",
        "mySet=set()\n",
        "for el in a:\n",
        "    if el in mySet:\n",
        "        print(el)\n",
        "        break\n",
        "    mySet.add(el)"
      ],
      "execution_count": null,
      "outputs": [
        {
          "output_type": "stream",
          "name": "stdout",
          "text": [
            "3\n"
          ]
        }
      ]
    },
    {
      "cell_type": "markdown",
      "metadata": {
        "id": "i_7vDBa4Sc6p"
      },
      "source": [
        "## Asked by Palantir:"
      ]
    },
    {
      "cell_type": "code",
      "metadata": {
        "id": "C8LB0rmsyi68"
      },
      "source": [
        "\"\"\"Given a string s consisting of small English letters, \n",
        "find and return the first instance of a non-repeating character in it. \n",
        "If there is no such character, return '_'.\n",
        "\n",
        "Example\n",
        "\n",
        "For s = \"abacabad\", the output should be\n",
        "firstNotRepeatingCharacter(s) = 'c'.\n",
        "\n",
        "There are 2 non-repeating characters in the string: 'c' and 'd'. \n",
        "Return c since it appears in the string first.\"\"\"\n",
        "\n",
        "def firstNotRepeatingCharacter(s):\n",
        "    for i in range(len(s)):\n",
        "        left=s[0:i]\n",
        "        right=s[i+1:len(s)]\n",
        "        \n",
        "        if (s[i] not in left) and (s[i] not in right):\n",
        "            return s[i]\n",
        "            \n",
        "    return \"_\""
      ],
      "execution_count": null,
      "outputs": []
    },
    {
      "cell_type": "code",
      "metadata": {
        "colab": {
          "base_uri": "https://localhost:8080/"
        },
        "id": "UDKymm4S1FkV",
        "outputId": "2df360db-7494-42ca-ccca-b475daa8044d"
      },
      "source": [
        "s = \"abacabad\"\n",
        "print(firstNotRepeatingCharacter(s))"
      ],
      "execution_count": null,
      "outputs": [
        {
          "output_type": "stream",
          "name": "stdout",
          "text": [
            "c\n"
          ]
        }
      ]
    },
    {
      "cell_type": "code",
      "metadata": {
        "id": "CvC3UkCp2Cqc"
      },
      "source": [
        "#Alternative approach:\n",
        "def firstNotRepeatingCharacter(s):\n",
        "    for c in s:\n",
        "        if s.index(c) == s.rindex(c):\n",
        "            return c\n",
        "    return '_'"
      ],
      "execution_count": null,
      "outputs": []
    },
    {
      "cell_type": "code",
      "metadata": {
        "colab": {
          "base_uri": "https://localhost:8080/"
        },
        "id": "PmRUGziB1PA1",
        "outputId": "72e00f7b-979d-4596-d546-0a0d12cfb6f5"
      },
      "source": [
        "#Random notes\n",
        "my_list = [1, 2, 3]\n",
        "print(\"Given list: %s\" %my_list)\n",
        "qty = 10\n",
        "item_name = \"chocolate\"\n",
        "rs = 100\n",
        "print(\"You can buy %d %s in %d rupees\" % (qty, item_name, rs))\n",
        "# prints \"You can buy 10 chocolate in 100 rupees\""
      ],
      "execution_count": null,
      "outputs": [
        {
          "output_type": "stream",
          "name": "stdout",
          "text": [
            "Given list: [1, 2, 3]\n",
            "You can buy 10 chocolate in 100 rupees\n"
          ]
        }
      ]
    },
    {
      "cell_type": "code",
      "metadata": {
        "colab": {
          "base_uri": "https://localhost:8080/"
        },
        "id": "fmRUZgCx39dN",
        "outputId": "df40c6eb-4c62-42da-b833-61dd07fd45db"
      },
      "source": [
        "s=\"hello\"\n",
        "print(s[::-1])"
      ],
      "execution_count": null,
      "outputs": [
        {
          "output_type": "stream",
          "name": "stdout",
          "text": [
            "olleh\n"
          ]
        }
      ]
    },
    {
      "cell_type": "markdown",
      "metadata": {
        "id": "JcrGDDkbUA5B"
      },
      "source": [
        "## Asked by Optum UHG:"
      ]
    },
    {
      "cell_type": "code",
      "metadata": {
        "id": "qKBXxusEMsUL",
        "colab": {
          "base_uri": "https://localhost:8080/"
        },
        "outputId": "0f1499ef-f261-4751-a5c8-1e2ed9a3dca7"
      },
      "source": [
        "\"\"\"Given an array A[] and a number x, check for pair in A[] with sum as x.\"\"\"\n",
        "\n",
        "x=int(input())\n",
        "a=[1,2,3,4-1,-3,6,7]\n",
        "l=0\n",
        "r=len(a)-1\n",
        "a.sort()\n",
        "\n",
        "while(r>l):\n",
        "  if a[r]+a[l]==x:\n",
        "    pair=[a[r],a[l]]\n",
        "    break\n",
        "  elif a[r]+a[l]<x:\n",
        "    l+=1\n",
        "  else:\n",
        "    r-=1\n",
        "print(pair)\n"
      ],
      "execution_count": null,
      "outputs": [
        {
          "output_type": "stream",
          "name": "stdout",
          "text": [
            "5\n",
            "[3, 2]\n"
          ]
        }
      ]
    },
    {
      "cell_type": "code",
      "metadata": {
        "id": "V56Js40M3lQH",
        "colab": {
          "base_uri": "https://localhost:8080/",
          "height": 35
        },
        "outputId": "771a579e-395f-4998-d9ec-d64f689ed709"
      },
      "source": [
        "\"\"\"Count the length of bits in a integer.\"\"\""
      ],
      "execution_count": null,
      "outputs": [
        {
          "output_type": "execute_result",
          "data": {
            "application/vnd.google.colaboratory.intrinsic+json": {
              "type": "string"
            },
            "text/plain": [
              "'Count the length of bits in a integer.'"
            ]
          },
          "metadata": {},
          "execution_count": 31
        }
      ]
    },
    {
      "cell_type": "code",
      "metadata": {
        "id": "Iio92WhOD5TB",
        "colab": {
          "base_uri": "https://localhost:8080/"
        },
        "outputId": "496e371c-0932-413b-dd5d-6bd3b5f60036"
      },
      "source": [
        "len(bin(50).replace('0b',''))#converting decimal into binary"
      ],
      "execution_count": null,
      "outputs": [
        {
          "output_type": "execute_result",
          "data": {
            "text/plain": [
              "6"
            ]
          },
          "metadata": {},
          "execution_count": 32
        }
      ]
    },
    {
      "cell_type": "code",
      "metadata": {
        "colab": {
          "base_uri": "https://localhost:8080/"
        },
        "id": "jFppGo6c1kzz",
        "outputId": "8118a4fd-85f6-44b7-c383-e671fa06a91a"
      },
      "source": [
        "def countBits(n):\n",
        "    return n.bit_length()\n",
        "print(countBits(50))"
      ],
      "execution_count": null,
      "outputs": [
        {
          "output_type": "stream",
          "name": "stdout",
          "text": [
            "6\n"
          ]
        }
      ]
    },
    {
      "cell_type": "code",
      "metadata": {
        "id": "khY7K05gR7LS"
      },
      "source": [
        "def simpleSort(arr):\n",
        "\n",
        "    n = len(arr)\n",
        "\n",
        "    for i in range(n):\n",
        "        j = 0\n",
        "        stop = n - i\n",
        "        while j < stop - 1:\n",
        "            if arr[j] > arr[j + 1]:\n",
        "                arr[j],arr[j+1] = arr[j+1],arr[j] #in Python you can assign several elements at once\n",
        "            j += 1\n",
        "    return arr"
      ],
      "execution_count": null,
      "outputs": []
    },
    {
      "cell_type": "code",
      "metadata": {
        "id": "Z0r9drEdaIi-",
        "colab": {
          "base_uri": "https://localhost:8080/"
        },
        "outputId": "9d76acd5-09b6-4375-e44b-6bc64fb4d41e"
      },
      "source": [
        "\"\"\"For n = \"1302\" and x = 5, the output should be\n",
        "baseConversion(n, x) = \"ca\".\n",
        "\n",
        "Here's why:\n",
        "13025 = 20210 = ca16.\"\"\"\n",
        "\n",
        "def baseConversion(n, x):\n",
        "    return \"%x\" % int(n, x)\n",
        "y=baseConversion('z',36)\n",
        "print(y)"
      ],
      "execution_count": null,
      "outputs": [
        {
          "output_type": "stream",
          "name": "stdout",
          "text": [
            "23\n"
          ]
        }
      ]
    },
    {
      "cell_type": "markdown",
      "metadata": {
        "id": "UaAYc9uDT9az"
      },
      "source": [
        "## Asked by StateStreet:"
      ]
    },
    {
      "cell_type": "code",
      "metadata": {
        "id": "Rgox8kC9s51c",
        "colab": {
          "base_uri": "https://localhost:8080/"
        },
        "outputId": "938f1932-441b-499c-a041-dbc746517709"
      },
      "source": [
        "\"\"\"Count the number of elements in an array that has a power raised to 2 and find\n",
        "their sum as well\"\"\"\n",
        "\n",
        "a=[1,2,3,4,5,6,7,8]\n",
        "import math\n",
        "sum=0\n",
        "count=0\n",
        "for i in a:\n",
        "  if math.log(i,2)-int(math.log(i,2))==0:\n",
        "    sum+=i\n",
        "    count+=1\n",
        "    print(i)\n",
        "\n",
        "print(f\"Sum is:{sum} and count is:{count}\")"
      ],
      "execution_count": null,
      "outputs": [
        {
          "output_type": "stream",
          "name": "stdout",
          "text": [
            "1\n",
            "2\n",
            "4\n",
            "8\n",
            "Sum is:15 and count is:4\n"
          ]
        }
      ]
    },
    {
      "cell_type": "code",
      "metadata": {
        "colab": {
          "base_uri": "https://localhost:8080/"
        },
        "id": "MLihcc6ZR1j6",
        "outputId": "bae5f886-71e9-4869-c46d-837989db662c"
      },
      "source": [
        "\"\"\"Take the summations of the diagonal elements of two arrays and find their \n",
        "difference.\"\"\"\n",
        "\n",
        "arr1 = [\n",
        "\t\t    [11, 12, 5],\n",
        "        [15, 6, 10],\n",
        "        [10, 8, 12],\n",
        "        ]\n",
        "\n",
        "arr2=[\n",
        "\t\t    [64,2,33],\n",
        "        [101, 98, 7],\n",
        "        [45, 39, 76],\n",
        "        ]\n",
        "\n",
        "sum1=sum2=0\n",
        "for i in range(len(arr1)):\n",
        "  sum1+=arr1[i][i]\n",
        "for i in range(len(arr2)):\n",
        "  sum2+=arr2[i][i]\n",
        "print(abs(sum1-sum2))"
      ],
      "execution_count": null,
      "outputs": [
        {
          "output_type": "stream",
          "name": "stdout",
          "text": [
            "209\n"
          ]
        }
      ]
    }
  ]
}